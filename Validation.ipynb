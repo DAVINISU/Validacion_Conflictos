{
 "cells": [
  {
   "cell_type": "code",
   "execution_count": 4,
   "metadata": {},
   "outputs": [],
   "source": [
    "import pandas as pd\n",
    "import os\n",
    "# Obtener el directorio de trabajo actual\n",
    "directorio_script = os.path.abspath(os.getcwd())\n",
    "# Construir las rutas de los archivos\n",
    "Archivo = os.path.join(directorio_script, \"Input.xlsx\")\n",
    "# Leer Roles del compuesto en un DataFrame\n",
    "Rol_Compuesto = pd.read_excel(Archivo, sheet_name=\"Compuesto\")\n",
    "# Extraer los últimos 4 caracteres de la columna 'Rol' en una nueva columna 'Padre'\n",
    "Rol_Compuesto['Padre'] = Rol_Compuesto['Rol'].astype(str).str[-4:]\n",
    "# Filtrar las filas donde la columna 'Padre' contiene 'PADR'\n",
    "Rol_Compuesto = Rol_Compuesto[Rol_Compuesto['Padre'].str.contains('PADR', na=False)]\n",
    "# Eliminar la columna 'Padre'\n",
    "Rol_Compuesto = Rol_Compuesto.drop(columns=['Padre'])\n",
    "# Eliminar duplicados basados en todas las columnas del DataFrame filtrado\n",
    "Rol_Compuesto = Rol_Compuesto.drop_duplicates()\n",
    "# Leer Transacciones de roles en un DataFrame\n",
    "Tx_Rol = pd.read_excel(Archivo, sheet_name=\"Rol x Transacción\")\n",
    "# Leer Conflictos de roles en un DataFrame\n",
    "Conflictos = pd.read_excel(Archivo, sheet_name=\"Conflictos de Segregacion\")\n",
    "# La columna común se llama 'Rol' en ambos DataFrames\n",
    "columna_comun = 'Rol'\n",
    "# Seleccionar solo la columna 2 de Tx_Rol (además de la columna común para hacer la combinación)\n",
    "Tx_Rol_seleccionado = Tx_Rol[[columna_comun, Tx_Rol.columns[1]]]\n",
    "# Renombrar la columna seleccionada si es necesario\n",
    "Tx_Rol_seleccionado.columns = [columna_comun, 'Transaccion']\n",
    "# Realizar la combinación de los DataFrames\n",
    "Data_Objetivo = pd.merge(Rol_Compuesto, Tx_Rol_seleccionado, on=columna_comun, how='left')\n",
    "\n",
    "###### Cruzar base Data_Objetivo con la base conflicto #####\n",
    "Data_Objetivo = pd.merge(Rol_Compuesto, Tx_Rol_seleccionado, on=columna_comun, how='left')\n"
   ]
  }
 ],
 "metadata": {
  "kernelspec": {
   "display_name": "Python 3",
   "language": "python",
   "name": "python3"
  },
  "language_info": {
   "codemirror_mode": {
    "name": "ipython",
    "version": 3
   },
   "file_extension": ".py",
   "mimetype": "text/x-python",
   "name": "python",
   "nbconvert_exporter": "python",
   "pygments_lexer": "ipython3",
   "version": "3.12.3"
  }
 },
 "nbformat": 4,
 "nbformat_minor": 2
}
